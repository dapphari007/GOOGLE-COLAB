{
  "nbformat": 4,
  "nbformat_minor": 0,
  "metadata": {
    "colab": {
      "provenance": [],
      "toc_visible": true,
      "authorship_tag": "ABX9TyM1FNU5bC0btq/vCJ5yEXmk",
      "include_colab_link": true
    },
    "kernelspec": {
      "name": "python3",
      "display_name": "Python 3"
    },
    "language_info": {
      "name": "python"
    }
  },
  "cells": [
    {
      "cell_type": "markdown",
      "metadata": {
        "id": "view-in-github",
        "colab_type": "text"
      },
      "source": [
        "<a href=\"https://colab.research.google.com/github/dapphari007/GOOGLE-COLAB/blob/main/Word_to_pdf.ipynb\" target=\"_parent\"><img src=\"https://colab.research.google.com/assets/colab-badge.svg\" alt=\"Open In Colab\"/></a>"
      ]
    },
    {
      "cell_type": "code",
      "source": [
        "!pip install --upgrade pyOpenSSL"
      ],
      "metadata": {
        "colab": {
          "base_uri": "https://localhost:8080/"
        },
        "id": "dOOyoEGo_xhp",
        "outputId": "9bb3e517-2107-4382-9ea3-87cdd9bd9bc0"
      },
      "execution_count": 1,
      "outputs": [
        {
          "output_type": "stream",
          "name": "stdout",
          "text": [
            "Requirement already satisfied: pyOpenSSL in /usr/local/lib/python3.10/dist-packages (23.3.0)\n",
            "Requirement already satisfied: cryptography<42,>=41.0.5 in /usr/local/lib/python3.10/dist-packages (from pyOpenSSL) (41.0.5)\n",
            "Requirement already satisfied: cffi>=1.12 in /usr/local/lib/python3.10/dist-packages (from cryptography<42,>=41.0.5->pyOpenSSL) (1.16.0)\n",
            "Requirement already satisfied: pycparser in /usr/local/lib/python3.10/dist-packages (from cffi>=1.12->cryptography<42,>=41.0.5->pyOpenSSL) (2.21)\n"
          ]
        }
      ]
    },
    {
      "cell_type": "code",
      "execution_count": null,
      "metadata": {
        "colab": {
          "base_uri": "https://localhost:8080/"
        },
        "id": "xZchPnc82O9Y",
        "outputId": "4aa390a4-9f23-4038-916e-e1398ac8de1c"
      },
      "outputs": [
        {
          "output_type": "stream",
          "name": "stdout",
          "text": [
            "Collecting aspose-words\n",
            "  Downloading aspose_words-23.11.0-py3-none-manylinux1_x86_64.whl (83.5 MB)\n",
            "\u001b[2K     \u001b[90m━━━━━━━━━━━━━━━━━━━━━━━━━━━━━━━━━━━━━━━━\u001b[0m \u001b[32m83.5/83.5 MB\u001b[0m \u001b[31m5.7 MB/s\u001b[0m eta \u001b[36m0:00:00\u001b[0m\n",
            "\u001b[?25hInstalling collected packages: aspose-words\n",
            "Successfully installed aspose-words-23.11.0\n"
          ]
        }
      ],
      "source": [
        "!pip install aspose-words"
      ]
    },
    {
      "cell_type": "code",
      "source": [
        "def colab_pdf(file_name, notebookpath=\"/content/drive/MyDrive/Colab_Notebooks/\");\n",
        "    import os\n",
        "\n",
        "    # Checking if file_name passed is a string.\n",
        "    if not isinstance(file_name, str):\n",
        "        raise TypeError(\n",
        "            f\"expected a string as file_name, but got {type(file_name)} instead.\"\n",
        "        )\n",
        "\n",
        "    # Using the defaults used by google.colab\n",
        "    drive_mount_point = \"/content/drive/\"\n",
        "    gdrive_home = os.path.join(drive_mount_point, \"My Drive/\")\n",
        "\n",
        "    # If the drive is not already mounted, attempt to mount it.\n",
        "    if not os.path.isdir(gdrive_home):\n",
        "        from google.colab import drive\n",
        "\n",
        "        drive.mount(drive_mount_point)\n",
        "\n",
        "    # Check if the notebook exists in the Drive.\n",
        "    if not os.path.isfile(os.path.join(notebookpath, file_name)):\n",
        "        raise ValueError(f\"file '{file_name}' not found in path '{notebookpath}'.\")\n",
        "\n",
        "    # Installing all the recommended packages.\n",
        "    get_ipython().system(\n",
        "        \"apt update >> /dev/null && apt install texlive-xetex texlive-fonts-recommended texlive-generic-recommended >> /dev/null\"\n",
        "    )\n",
        "\n",
        "    # If pdf with the same name exists, remove it.\n",
        "    pdf_file = os.path.join(gdrive_home, file_name.split(\".\")[0] + \".pdf\")\n",
        "\n",
        "    if os.path.isfile(pdf_file):\n",
        "        os.remove(pdf_file)\n",
        "\n",
        "    # Attempt to convert to pdf and save it in Gdrive home dir using jupyter nbconvert command.\n",
        "    try:\n",
        "        get_ipython().system(\n",
        "            \"jupyter nbconvert --output-dir='$gdrive_home' '$notebookpath''$file_name' --to pdf\"\n",
        "        )\n",
        "    except:\n",
        "        return \"nbconvert error\"\n",
        "\n",
        "    # Attempt to download the file to system.\n",
        "    try:\n",
        "        from google.colab import files\n",
        "\n",
        "        file_name = file_name.split(\".\")[0] + \".pdf\"\n",
        "        files.download(gdrive_home + file_name)\n",
        "    except:\n",
        "        return \"File Download Unsuccessful. Saved in Google Drive\"\n",
        "\n",
        "    return \"File ready to be Downloaded and Saved to Drive\""
      ],
      "metadata": {
        "id": "cwcpnYfZ9pZ6"
      },
      "execution_count": 1,
      "outputs": []
    }
  ]
}